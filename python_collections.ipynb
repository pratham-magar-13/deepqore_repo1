{
  "nbformat": 4,
  "nbformat_minor": 0,
  "metadata": {
    "colab": {
      "provenance": []
    },
    "kernelspec": {
      "name": "python3",
      "display_name": "Python 3"
    },
    "language_info": {
      "name": "python"
    }
  },
  "cells": [
    {
      "cell_type": "code",
      "execution_count": null,
      "metadata": {
        "colab": {
          "base_uri": "https://localhost:8080/"
        },
        "id": "p1vvibMUE9oY",
        "outputId": "f2ac6bac-28db-4440-c49f-aa3d8bf800b8"
      },
      "outputs": [
        {
          "output_type": "stream",
          "name": "stdout",
          "text": [
            "['apple', 'orange', 'banana', 'apple', 'banana', 'cherry', 'orange', 'kiwi', 'melon', 'mango']\n"
          ]
        },
        {
          "output_type": "execute_result",
          "data": {
            "text/plain": [
              "list"
            ]
          },
          "metadata": {},
          "execution_count": 9
        }
      ],
      "source": [
        "list=[\"apple\",\"orange\",\"banana\",\"apple\", \"banana\", \"cherry\", \"orange\", \"kiwi\", \"melon\", \"mango\"]\n",
        "print(list)\n",
        "type(list)"
      ]
    },
    {
      "cell_type": "code",
      "source": [
        "#accessing the list\n",
        "print(list[1])\n",
        "\n",
        "for(x) in list:\n",
        "    print(x)\n"
      ],
      "metadata": {
        "colab": {
          "base_uri": "https://localhost:8080/"
        },
        "id": "kDqogQ9_FKDW",
        "outputId": "04e408d6-3007-45d5-adea-a1ca63132cb7"
      },
      "execution_count": null,
      "outputs": [
        {
          "output_type": "stream",
          "name": "stdout",
          "text": [
            "orange\n",
            "apple\n",
            "orange\n",
            "banana\n",
            "apple\n",
            "banana\n",
            "cherry\n",
            "orange\n",
            "kiwi\n",
            "melon\n",
            "mango\n"
          ]
        }
      ]
    },
    {
      "cell_type": "code",
      "source": [
        "print(list[-1])\n",
        "print(list[2:5])\n",
        "print(list[:4])\n",
        "print(list[4:])"
      ],
      "metadata": {
        "colab": {
          "base_uri": "https://localhost:8080/"
        },
        "id": "ScZa6JV9FkX7",
        "outputId": "0a2eedfc-9f39-4f16-c768-2170873db24e"
      },
      "execution_count": null,
      "outputs": [
        {
          "output_type": "stream",
          "name": "stdout",
          "text": [
            "mango\n",
            "['banana', 'apple', 'banana']\n",
            "['apple', 'orange', 'banana', 'apple']\n",
            "['banana', 'cherry', 'orange', 'kiwi', 'melon', 'mango']\n"
          ]
        }
      ]
    },
    {
      "cell_type": "markdown",
      "source": [
        "**List Comprehension**\n"
      ],
      "metadata": {
        "id": "My2SuR2MINHF"
      }
    },
    {
      "cell_type": "markdown",
      "source": [
        "List comprenhension offers a shorter syntax when you want to create a new list based on the values of an existing list."
      ],
      "metadata": {
        "id": "xvHIrwbgIcy8"
      }
    },
    {
      "cell_type": "code",
      "source": [
        "fruits = [\"apple\", \"banana\", \"cherry\", \"kiwi\", \"mango\"]\n",
        "newlist = []\n",
        "\n",
        "for x in fruits:\n",
        "  if \"a\" in x:\n",
        "    newlist.append(x)\n",
        "\n",
        "print(newlist)"
      ],
      "metadata": {
        "id": "BQC78bHpGDHQ",
        "colab": {
          "base_uri": "https://localhost:8080/"
        },
        "outputId": "d04a5cd7-21ca-4933-b472-324f76e415de"
      },
      "execution_count": 15,
      "outputs": [
        {
          "output_type": "stream",
          "name": "stdout",
          "text": [
            "['apple', 'banana', 'mango']\n"
          ]
        }
      ]
    },
    {
      "cell_type": "markdown",
      "source": [
        "**The syntax**"
      ],
      "metadata": {
        "id": "6EbKAhx4I2Ar"
      }
    },
    {
      "cell_type": "markdown",
      "source": [
        "newlist=[expression for item in iterable if condition==true]\n",
        "\n",
        "Condition is like a filter that only accepts the item that evaluate to True."
      ],
      "metadata": {
        "id": "qGt7x1L9I3pj"
      }
    },
    {
      "cell_type": "code",
      "source": [
        "#list comprenhension example\n",
        "ist=[\"apple\",\"orange\",\"banana\",\"apple\", \"banana\", \"cherry\", \"orange\", \"kiwi\", \"melon\", \"mango\"]\n",
        "newlist=[x for x in list if \"a\" in x]\n",
        "print(newlist)"
      ],
      "metadata": {
        "colab": {
          "base_uri": "https://localhost:8080/"
        },
        "id": "3YRdxZhSIrpb",
        "outputId": "d4c2cda3-3c6d-4d1d-9c40-2bf85acc7a92"
      },
      "execution_count": 16,
      "outputs": [
        {
          "output_type": "stream",
          "name": "stdout",
          "text": [
            "['apple', 'orange', 'banana', 'apple', 'banana', 'orange', 'mango']\n"
          ]
        }
      ]
    },
    {
      "cell_type": "markdown",
      "source": [
        "Here rather than a whole block of code it can be replaced by using just a single line."
      ],
      "metadata": {
        "id": "Prs2z1xrJhe1"
      }
    },
    {
      "cell_type": "code",
      "source": [
        "newlist=[x for x in list if x!=\"apple\"]\n",
        "print(newlist)"
      ],
      "metadata": {
        "colab": {
          "base_uri": "https://localhost:8080/"
        },
        "id": "ccqn1oXNJ0lh",
        "outputId": "8c5128fb-8b06-48b1-c543-bcce707e89db"
      },
      "execution_count": 21,
      "outputs": [
        {
          "output_type": "stream",
          "name": "stdout",
          "text": [
            "['orange', 'banana', 'banana', 'cherry', 'orange', 'kiwi', 'melon', 'mango']\n"
          ]
        }
      ]
    },
    {
      "cell_type": "markdown",
      "source": [
        "**Iterable**\n",
        "\n",
        "Iterable can be nay iterable object like a list, tuple, set, etc."
      ],
      "metadata": {
        "id": "2FEYebu7KfFb"
      }
    },
    {
      "cell_type": "markdown",
      "source": [
        "**Sort Lists**\n",
        "\n",
        "sort() method that will sort the list alphanumerically, ascending, by default."
      ],
      "metadata": {
        "id": "d7G9USxyK6rt"
      }
    },
    {
      "cell_type": "code",
      "source": [
        "thislist = [\"orange\", \"mango\", \"kiwi\", \"pineapple\", \"banana\"]\n",
        "thislist.sort()\n",
        "print(thislist)"
      ],
      "metadata": {
        "colab": {
          "base_uri": "https://localhost:8080/"
        },
        "id": "ka4Cj6XWLFWD",
        "outputId": "a802b9d5-4efa-4c2b-c0a8-5c7e1fa8972a"
      },
      "execution_count": 22,
      "outputs": [
        {
          "output_type": "stream",
          "name": "stdout",
          "text": [
            "['banana', 'kiwi', 'mango', 'orange', 'pineapple']\n"
          ]
        }
      ]
    },
    {
      "cell_type": "markdown",
      "source": [
        "**Join lists**"
      ],
      "metadata": {
        "id": "cRc0S09xMCcm"
      }
    },
    {
      "cell_type": "code",
      "source": [
        "list1 = [\"a\", \"b\", \"c\"]\n",
        "list2 = [1, 2, 3]\n",
        "\n",
        "list3 = list1 + list2\n",
        "print(list3)\n"
      ],
      "metadata": {
        "colab": {
          "base_uri": "https://localhost:8080/"
        },
        "id": "KXlEQ6XUKWhn",
        "outputId": "9de5b219-2669-477f-c92b-95988fa3fd3a"
      },
      "execution_count": 23,
      "outputs": [
        {
          "output_type": "stream",
          "name": "stdout",
          "text": [
            "['a', 'b', 'c', 1, 2, 3]\n"
          ]
        }
      ]
    },
    {
      "cell_type": "markdown",
      "source": [
        "**Tuple**\n",
        "\n",
        "Tuples are used to store multiple items in a single variable.\n",
        "\n",
        "They are written with round brackets.\n",
        "\n",
        "It is a collection which is ordered and unchangeable meaning they are immutable.\n",
        "\n",
        "For changing its values they have to be converted to list then again to tuple."
      ],
      "metadata": {
        "id": "Pgfj7MUTMRsA"
      }
    },
    {
      "cell_type": "code",
      "source": [
        "thistuple = (\"apple\", \"banana\", \"cherry\")\n",
        "print(thistuple)"
      ],
      "metadata": {
        "colab": {
          "base_uri": "https://localhost:8080/"
        },
        "id": "CnlN5QACMl6L",
        "outputId": "29c069e1-ca85-40ef-c4cc-5405e3927b28"
      },
      "execution_count": 24,
      "outputs": [
        {
          "output_type": "stream",
          "name": "stdout",
          "text": [
            "('apple', 'banana', 'cherry')\n"
          ]
        }
      ]
    },
    {
      "cell_type": "markdown",
      "source": [
        "**Set**\n",
        "\n",
        "Sets are used to store multiple items ina single variable.\n",
        "\n",
        "Set is a colelction which is unordered, unchangeable and unindexed.\n",
        "\n",
        "Duplicates are not allowed."
      ],
      "metadata": {
        "id": "26zffA7CNJq8"
      }
    },
    {
      "cell_type": "markdown",
      "source": [
        "**Dictionaries are like JSON**"
      ],
      "metadata": {
        "id": "VvKx53ryNxvL"
      }
    }
  ]
}