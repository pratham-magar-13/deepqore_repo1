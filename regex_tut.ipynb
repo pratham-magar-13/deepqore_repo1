{
  "nbformat": 4,
  "nbformat_minor": 0,
  "metadata": {
    "colab": {
      "provenance": []
    },
    "kernelspec": {
      "name": "python3",
      "display_name": "Python 3"
    },
    "language_info": {
      "name": "python"
    }
  },
  "cells": [
    {
      "cell_type": "markdown",
      "source": [
        "#**Find digits in given data**"
      ],
      "metadata": {
        "id": "0EvfPhWXjOaW"
      }
    },
    {
      "cell_type": "code",
      "execution_count": null,
      "metadata": {
        "id": "Av4CpvRwk6dZ"
      },
      "outputs": [],
      "source": [
        "import re\n",
        "data=\"The price is $100.\""
      ]
    },
    {
      "cell_type": "code",
      "source": [
        "pattern=r'[0-9]'\n",
        "match_list=re.findall(pattern,data)\n",
        "print(match_list)"
      ],
      "metadata": {
        "colab": {
          "base_uri": "https://localhost:8080/"
        },
        "id": "FbnGBccEjcWe",
        "outputId": "da550507-5b0c-4e9b-b8bd-4603b6831683"
      },
      "execution_count": null,
      "outputs": [
        {
          "output_type": "stream",
          "name": "stdout",
          "text": [
            "['1', '0', '0']\n"
          ]
        }
      ]
    },
    {
      "cell_type": "markdown",
      "source": [
        "**instead of class, sequence characters can be used '\\d'**\n",
        "\n"
      ],
      "metadata": {
        "id": "RdgnBhyGkRWh"
      }
    },
    {
      "cell_type": "code",
      "source": [
        "pattern=r'\\d'\n",
        "match_list=re.findall(pattern,data)\n",
        "print(match_list)\n",
        "\n",
        "#observe\n",
        "pattern=r'\\d{3}'\n",
        "match_list=re.findall(pattern,data)\n",
        "print(match_list)"
      ],
      "metadata": {
        "colab": {
          "base_uri": "https://localhost:8080/"
        },
        "id": "DdJXxAkAjxua",
        "outputId": "4c2f2851-5656-4ec9-a170-6290f10d7910"
      },
      "execution_count": null,
      "outputs": [
        {
          "output_type": "stream",
          "name": "stdout",
          "text": [
            "['1', '0', '0']\n",
            "['100']\n"
          ]
        }
      ]
    },
    {
      "cell_type": "markdown",
      "source": [
        "# **find texts**"
      ],
      "metadata": {
        "id": "jGhaz7ZPk8kq"
      }
    },
    {
      "cell_type": "code",
      "source": [
        "#small letters\n",
        "pattern=r'[a-z]'\n",
        "match_list=re.findall(pattern,data)\n",
        "print(match_list)\n",
        "\n",
        "\n",
        "#capital letters\n",
        "pattern=r'[A-Z]'\n",
        "match_list=re.findall(pattern,data)\n",
        "print(match_list)\n",
        "\n",
        "\n",
        "#ignoring case\n",
        "pattern=r'[a-z]'\n",
        "match_list=re.findall(pattern,data,re.IGNORECASE)\n",
        "print(match_list)\n",
        "\n",
        "\n",
        "#vowels\n",
        "pattern=r'[aeiou]'\n",
        "match_list=re.findall(pattern,data)\n",
        "print(match_list)\n",
        "\n",
        "#characters\n",
        "pattern=r'[$]'\n",
        "match_list=re.findall(pattern,data)\n",
        "print(match_list)"
      ],
      "metadata": {
        "colab": {
          "base_uri": "https://localhost:8080/"
        },
        "id": "bwyoYJ1skn7T",
        "outputId": "568cc926-fb32-4066-bb4d-e0a5edddf029"
      },
      "execution_count": null,
      "outputs": [
        {
          "output_type": "stream",
          "name": "stdout",
          "text": [
            "['h', 'e', 'p', 'r', 'i', 'c', 'e', 'i', 's']\n",
            "['T']\n",
            "['T', 'h', 'e', 'p', 'r', 'i', 'c', 'e', 'i', 's']\n",
            "['e', 'i', 'e', 'i']\n",
            "['$']\n"
          ]
        }
      ]
    },
    {
      "cell_type": "markdown",
      "source": [
        "# **Multiple character classes**"
      ],
      "metadata": {
        "id": "9c2Eg3sNmb9T"
      }
    },
    {
      "cell_type": "code",
      "source": [
        "#suppose gotta find alphabets and numbers\n",
        "pattern=r'[A-Z0-9]'\n",
        "match_list=re.findall(pattern,data)\n",
        "print(match_list)"
      ],
      "metadata": {
        "colab": {
          "base_uri": "https://localhost:8080/"
        },
        "id": "y03z2I05lE1z",
        "outputId": "6deb25c4-d078-41a1-8a31-418aa9238a80"
      },
      "execution_count": null,
      "outputs": [
        {
          "output_type": "stream",
          "name": "stdout",
          "text": [
            "['T', '1', '0', '0']\n"
          ]
        }
      ]
    },
    {
      "cell_type": "markdown",
      "source": [
        "# ***Some character classes***\n",
        "**[abc]: matches any one of the characters;a,b or c**\n",
        "\n",
        "**[^abc]: matches any character that is not a b or c**\n",
        "\n",
        "**[0-9]: matches any digit from 0 to 9**\n",
        "\n",
        "**[A-Z]: matches uppercase letters form a to z**\n",
        "\n",
        "**[a-z]: matches lowercase letters form a to z**\n",
        "\n",
        "**[A-Za-z]: matches both uppercase and lowercase letters otherwise you can do it by passing argument ignorecase as above**\n",
        "\n",
        "**[^0-9]: matches any character that is nota  digit**\n",
        "\n",
        "**[^A-Za-z]: matches characters that are neither uppercase nor lowercase letters**"
      ],
      "metadata": {
        "id": "fW39Cub7nSMf"
      }
    },
    {
      "cell_type": "code",
      "source": [
        "#condition for password atleast one digit or at least one uppercase letter\n",
        "password=input('Enter Password: ')\n",
        "pattern=r'[0-9A-Z]'\n",
        "data=re.findall(pattern,password)\n",
        "if data:\n",
        "  print('Valid Password')\n",
        "else:\n",
        "  print('Invalid Password')"
      ],
      "metadata": {
        "colab": {
          "base_uri": "https://localhost:8080/"
        },
        "id": "VgRMJTWDmzB2",
        "outputId": "34c12df2-d3f5-4872-9170-e38d7b2e9b3f"
      },
      "execution_count": null,
      "outputs": [
        {
          "output_type": "stream",
          "name": "stdout",
          "text": [
            "Enter Password: sqL\n",
            "Valid Password\n"
          ]
        }
      ]
    },
    {
      "cell_type": "markdown",
      "source": [
        "# **Special sequences**\n",
        "**\\d: matches any digit character**\n",
        "\n",
        "**\\D: matches any non digit character**\n",
        "\n",
        "**\\w: matches any word character(alphanumeric plus underscore)**\n",
        "\n",
        "**\\W: matches any non-word character**\n",
        "\n",
        "**\\s: matches any whitespace character**\n",
        "\n",
        "**\\S: matches any non-whitespace character**\n",
        "\n",
        "**\\b: matches a word boundary**\n",
        "\n",
        "**\\A: startswith**\n",
        "\n",
        "**\\Z: endswith**"
      ],
      "metadata": {
        "id": "eHDy3xpjqc41"
      }
    },
    {
      "cell_type": "code",
      "source": [
        "text=\"Hello, my phone number is 123-456-7890\"\n",
        "pattern=r'\\d'\n",
        "result=re.findall(pattern,text)\n",
        "print(result)"
      ],
      "metadata": {
        "colab": {
          "base_uri": "https://localhost:8080/"
        },
        "id": "hscpBLmjpu1y",
        "outputId": "f3fd0c8b-386a-4d40-fde2-dea0e37d9462"
      },
      "execution_count": null,
      "outputs": [
        {
          "output_type": "stream",
          "name": "stdout",
          "text": [
            "['1', '2', '3', '4', '5', '6', '7', '8', '9', '0']\n"
          ]
        }
      ]
    },
    {
      "cell_type": "code",
      "source": [
        "pattern=r'.'\n",
        "result=re.findall(pattern,text)\n",
        "print(result)\n",
        "#dot metacharacter identifies every characters except \\n : white space"
      ],
      "metadata": {
        "colab": {
          "base_uri": "https://localhost:8080/"
        },
        "id": "2EtKcEbmq2Ef",
        "outputId": "41607be0-1572-4b26-8a43-541a424e207e"
      },
      "execution_count": null,
      "outputs": [
        {
          "output_type": "stream",
          "name": "stdout",
          "text": [
            "['H', 'e', 'l', 'l', 'o', ',', ' ', 'm', 'y', ' ', 'p', 'h', 'o', 'n', 'e', ' ', 'n', 'u', 'm', 'b', 'e', 'r', ' ', 'i', 's', ' ', '1', '2', '3', '-', '4', '5', '6', '-', '7', '8', '9', '0']\n"
          ]
        }
      ]
    },
    {
      "cell_type": "code",
      "source": [
        "data='numbers are 8907654321, (897)-999-8767'"
      ],
      "metadata": {
        "id": "dOtFXp5BshJg"
      },
      "execution_count": null,
      "outputs": []
    },
    {
      "cell_type": "code",
      "source": [
        "pattern=r\"\\(\\d{3}\\)-\\d{3}-\\d{4}|\\d{10}\"\n",
        "result=re.findall(pattern,data)\n",
        "print(result)"
      ],
      "metadata": {
        "colab": {
          "base_uri": "https://localhost:8080/"
        },
        "id": "pGI-MCuV0bFn",
        "outputId": "e01c0183-03e3-4a0b-ed45-448015ed6270"
      },
      "execution_count": null,
      "outputs": [
        {
          "output_type": "stream",
          "name": "stdout",
          "text": [
            "['8907654321', '(897)-999-8767']\n"
          ]
        }
      ]
    },
    {
      "cell_type": "markdown",
      "source": [
        "# **(*) sign is used for sequence of characters**\n",
        "\n",
        "**it will match for occurances of zero or more**"
      ],
      "metadata": {
        "id": "kOCQcYO8Juid"
      }
    },
    {
      "cell_type": "code",
      "source": [
        "text=\"abc@xyz.com, abx_83@xyz.com,etc are few gmails.\""
      ],
      "metadata": {
        "id": "RGvcu-WR0uUi"
      },
      "execution_count": null,
      "outputs": []
    },
    {
      "cell_type": "code",
      "source": [
        "pattern=r\"[a-z0-9A-Z_*]*@[A-Za-z]*[a-z]*\\.com\"\n",
        "result=re.findall(pattern, text)\n",
        "print(result)"
      ],
      "metadata": {
        "colab": {
          "base_uri": "https://localhost:8080/"
        },
        "id": "Fscvm96sKERV",
        "outputId": "cec2b15a-be3f-4622-9eaa-f4c964cd1650"
      },
      "execution_count": null,
      "outputs": [
        {
          "output_type": "stream",
          "name": "stdout",
          "text": [
            "['abc@xyz.com', 'abx_83@xyz.com']\n"
          ]
        }
      ]
    },
    {
      "cell_type": "code",
      "source": [],
      "metadata": {
        "id": "jTCvmlbDKXA4"
      },
      "execution_count": null,
      "outputs": []
    }
  ]
}